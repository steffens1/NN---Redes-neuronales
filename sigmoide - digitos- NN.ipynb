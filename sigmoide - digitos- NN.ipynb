{
 "cells": [
  {
   "cell_type": "code",
   "execution_count": 72,
   "metadata": {},
   "outputs": [],
   "source": [
    "import tensorflow as tf \n",
    "from tensorflow import keras\n",
    "\n",
    "import numpy as nump\n",
    "import matplotlib.pyplot as plot"
   ]
  },
  {
   "cell_type": "code",
   "execution_count": 73,
   "metadata": {},
   "outputs": [],
   "source": [
    "digitos = keras.datasets.mnist"
   ]
  },
  {
   "cell_type": "code",
   "execution_count": 100,
   "metadata": {},
   "outputs": [],
   "source": [
    "(x, y ),  (x_prueba , y_prueba) = digitos.load_data()"
   ]
  },
  {
   "cell_type": "code",
   "execution_count": 101,
   "metadata": {},
   "outputs": [],
   "source": [
    "x=x/255.0\n",
    "x_prueba=x_prueba/255.0"
   ]
  },
  {
   "cell_type": "code",
   "execution_count": 102,
   "metadata": {},
   "outputs": [],
   "source": [
    "model = keras.Sequential([\n",
    "    keras.layers.Flatten(input_shape=(28, 28)),\n",
    "    keras.layers.Dense(128, activation=tf.nn.sigmoid),\n",
    "    keras.layers.Dense(10, activation=tf.nn.sigmoid)\n",
    "])"
   ]
  },
  {
   "cell_type": "code",
   "execution_count": 103,
   "metadata": {},
   "outputs": [],
   "source": [
    "model.compile(optimizer='adam',  loss='sparse_categorical_crossentropy',metrics=['accuracy'])"
   ]
  },
  {
   "cell_type": "code",
   "execution_count": 104,
   "metadata": {},
   "outputs": [
    {
     "name": "stdout",
     "output_type": "stream",
     "text": [
      "Epoch 1/20\n",
      "60000/60000 [==============================] - 5s 79us/sample - loss: 0.4062 - acc: 0.8984\n",
      "Epoch 2/20\n",
      "60000/60000 [==============================] - 6s 97us/sample - loss: 0.1894 - acc: 0.9456\n",
      "Epoch 3/20\n",
      "60000/60000 [==============================] - 7s 112us/sample - loss: 0.1409 - acc: 0.9587\n",
      "Epoch 4/20\n",
      "60000/60000 [==============================] - 5s 89us/sample - loss: 0.1112 - acc: 0.9679\n",
      "Epoch 5/20\n",
      "60000/60000 [==============================] - 6s 96us/sample - loss: 0.0901 - acc: 0.9742\n",
      "Epoch 6/20\n",
      "60000/60000 [==============================] - 5s 87us/sample - loss: 0.0750 - acc: 0.9789\n",
      "Epoch 7/20\n",
      "60000/60000 [==============================] - 5s 84us/sample - loss: 0.0627 - acc: 0.9829\n",
      "Epoch 8/20\n",
      "60000/60000 [==============================] - 5s 80us/sample - loss: 0.0529 - acc: 0.9856\n",
      "Epoch 9/20\n",
      "60000/60000 [==============================] - 4s 75us/sample - loss: 0.0450 - acc: 0.9877\n",
      "Epoch 10/20\n",
      "60000/60000 [==============================] - 4s 73us/sample - loss: 0.0386 - acc: 0.9898\n",
      "Epoch 11/20\n",
      "60000/60000 [==============================] - 5s 76us/sample - loss: 0.0323 - acc: 0.9924\n",
      "Epoch 12/20\n",
      "60000/60000 [==============================] - 4s 75us/sample - loss: 0.0281 - acc: 0.9938\n",
      "Epoch 13/20\n",
      "60000/60000 [==============================] - 4s 74us/sample - loss: 0.0235 - acc: 0.9952\n",
      "Epoch 14/20\n",
      "60000/60000 [==============================] - 5s 85us/sample - loss: 0.0201 - acc: 0.9959\n",
      "Epoch 15/20\n",
      "60000/60000 [==============================] - 4s 74us/sample - loss: 0.0169 - acc: 0.9971\n",
      "Epoch 16/20\n",
      "60000/60000 [==============================] - 4s 75us/sample - loss: 0.0143 - acc: 0.9975\n",
      "Epoch 17/20\n",
      "60000/60000 [==============================] - 5s 90us/sample - loss: 0.0122 - acc: 0.9980\n",
      "Epoch 18/20\n",
      "60000/60000 [==============================] - 5s 86us/sample - loss: 0.0099 - acc: 0.9988\n",
      "Epoch 19/20\n",
      "60000/60000 [==============================] - 5s 83us/sample - loss: 0.0085 - acc: 0.9992\n",
      "Epoch 20/20\n",
      "60000/60000 [==============================] - 5s 82us/sample - loss: 0.0071 - acc: 0.9994\n"
     ]
    },
    {
     "data": {
      "text/plain": [
       "<tensorflow.python.keras.callbacks.History at 0x1918da102b0>"
      ]
     },
     "execution_count": 104,
     "metadata": {},
     "output_type": "execute_result"
    }
   ],
   "source": [
    "model.fit(x, y, epochs=20)"
   ]
  },
  {
   "cell_type": "code",
   "execution_count": 105,
   "metadata": {},
   "outputs": [
    {
     "name": "stdout",
     "output_type": "stream",
     "text": [
      "10000/10000 [==============================] - 0s 37us/sample - loss: 0.0774 - acc: 0.9779\n"
     ]
    },
    {
     "data": {
      "text/plain": [
       "[0.0773978813839727, 0.9779]"
      ]
     },
     "execution_count": 105,
     "metadata": {},
     "output_type": "execute_result"
    }
   ],
   "source": [
    "model.evaluate(x_prueba,y_prueba)"
   ]
  },
  {
   "cell_type": "code",
   "execution_count": 106,
   "metadata": {},
   "outputs": [],
   "source": [
    "predicciones = model.predict(x_prueba)"
   ]
  },
  {
   "cell_type": "code",
   "execution_count": 110,
   "metadata": {},
   "outputs": [],
   "source": [
    "def predecir(xx):\n",
    "    plot.figure()\n",
    "    plot.imshow(x_prueba[xx])\n",
    "    plot.xlabel(y_prueba[xx])"
   ]
  },
  {
   "cell_type": "code",
   "execution_count": null,
   "metadata": {},
   "outputs": [],
   "source": [
    "len(y_prueba)"
   ]
  },
  {
   "cell_type": "code",
   "execution_count": 116,
   "metadata": {},
   "outputs": [
    {
     "data": {
      "image/png": "[encoded data removed]",
      "text/plain": [
       "<Figure size 432x288 with 1 Axes>"
      ]
     },
     "metadata": {
      "needs_background": "light"
     },
     "output_type": "display_data"
    }
   ],
   "source": [
    "#ingresa un numero // equivale al numero de array de los datos de prueba \n",
    "#tamaño del arrya prueba es de 10000\n",
    "predecir(15)"
   ]
  },
  {
   "cell_type": "code",
   "execution_count": 115,
   "metadata": {},
   "outputs": [
    {
     "data": {
      "text/plain": [
       "10000"
      ]
     },
     "execution_count": 115,
     "metadata": {},
     "output_type": "execute_result"
    }
   ],
   "source": []
  }
 ],
 "metadata": {
  "kernelspec": {
   "display_name": "Python 3",
   "language": "python",
   "name": "python3"
  },
  "language_info": {
   "codemirror_mode": {
    "name": "ipython",
    "version": 3
   },
   "file_extension": ".py",
   "mimetype": "text/x-python",
   "name": "python",
   "nbconvert_exporter": "python",
   "pygments_lexer": "ipython3",
   "version": "3.7.3"
  }
 },
 "nbformat": 4,
 "nbformat_minor": 2
}
